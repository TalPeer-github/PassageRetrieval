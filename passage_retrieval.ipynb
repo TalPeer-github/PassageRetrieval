{
 "cells": [
  {
   "cell_type": "code",
   "id": "initial_id",
   "metadata": {
    "collapsed": true,
    "jupyter": {
     "is_executing": true
    },
    "ExecuteTime": {
     "start_time": "2025-02-08T17:23:01.454212Z"
    }
   },
   "source": [
    "import pandas as pd\n",
    "import numpy as np\n",
    "import faiss\n",
    "import re\n",
    "import spacy\n",
    "import pickle\n",
    "from sentence_transformers import SentenceTransformer\n",
    "\n",
    "EMBEDDING_MODEL = 'all-MiniLM-L6-v2'\n",
    "# nlp = spacy.load(\"en_core_web_sm\")"
   ],
   "outputs": [],
   "execution_count": null
  },
  {
   "metadata": {},
   "cell_type": "code",
   "outputs": [],
   "execution_count": null,
   "source": [
    "queries = [\"What is the Sorcerer’s Stone and what does it do?\",\n",
    "           \"How does Harry get into Gryffindor?\",\n",
    "           \"What does the Mirror of Erised show Harry?\",\n",
    "           \"Who helps Harry get past Fluffy?\",\n",
    "           \"What happens during Harry’s first Quidditch match?\", ]\n",
    "complex_queries = [\n",
    "    \"How do Harry, Ron, and Hermione manage to bypass each of the obstacles guarding the Sorcerer’s Stone?\",\n",
    "    \"what role does Fluffy play in the protection system?\",\n",
    "    \"Snape’s and Quirrell’s interference Harrys first quidditch match\"]"
   ],
   "id": "edf53f4b5dcf3603"
  },
  {
   "metadata": {},
   "cell_type": "code",
   "outputs": [],
   "execution_count": null,
   "source": [
    "def embedding_model():\n",
    "    model = SentenceTransformer(EMBEDDING_MODEL)\n",
    "    return model"
   ],
   "id": "9dcf12ebaba29495"
  },
  {
   "metadata": {},
   "cell_type": "code",
   "outputs": [],
   "execution_count": null,
   "source": [
    "def load_df(dir_path: str, file_name: str, file_fmt: str):\n",
    "    file_path = f\"{dir_path}/{file_name}.{file_fmt}\"\n",
    "    return pd.read_csv(file_path)\n",
    "\n",
    "\n",
    "def load_embeddings(file_path=\"data/embeddings.pkl\"):\n",
    "    with open(file_path, \"rb\") as f:\n",
    "        loaded_embeddings = pickle.load(f)\n",
    "    return loaded_embeddings\n",
    "\n",
    "\n",
    "def clean_text(text, nlp=None):\n",
    "    \"\"\"\n",
    "    Cleans text by:\n",
    "    - Normalizing Unicode characters\n",
    "    - Removing special characters and extra whitespace\n",
    "    - Lowercasing text\n",
    "    - Keeping only alphanumeric characters and essential punctuation\n",
    "    \"\"\"\n",
    "    text = re.sub(r\"[^a-zA-Z0-9\\s.,?!]\", \"\", text)\n",
    "    text = re.sub(r\"\\s+\", \" \", text).strip()\n",
    "    text = text.lower()\n",
    "\n",
    "    if nlp is not None:\n",
    "        doc = nlp(text)\n",
    "        text = \" \".join(token.lemma_ for token in doc)\n",
    "    return text\n",
    "\n",
    "\n",
    "def build_faiss_flatl2_index(embeddings: np.ndarray, dim: tuple):\n",
    "    \"\"\"\n",
    "    This function builds a Faiss flat L2 index.\n",
    "    Args:\n",
    "        embeddings: An array of shape (n_index, dim) containing the index vectors.\n",
    "        dim: The dimensionality of the vectors.\n",
    "    Returns:\n",
    "        A Faiss flat L2 index.\n",
    "    \"\"\"\n",
    "    index = faiss.IndexFlatL2(dim[1])\n",
    "    index.add(embeddings)\n",
    "    return index\n",
    "\n",
    "\n",
    "def build_IVFIndex(embeddings, dim: tuple, _nprob=None):\n",
    "    nlist = 18\n",
    "    quantizer = faiss.IndexFlatL2(dim[1])\n",
    "    index = faiss.IndexIVFFlat(quantizer, dim[1], nlist)\n",
    "    index.train(embeddings)\n",
    "    index.add(embeddings)\n",
    "    if _nprob is not None:\n",
    "        index.nprobe = _nprob\n",
    "    return index\n",
    "\n",
    "\n",
    "def retrieve_top_passages(query, model, index, chunks, top_n=5):\n",
    "    query_embedding = model.encode([query], convert_to_numpy=True)\n",
    "    distances, indices = index.search(query_embedding, top_n)\n",
    "    retrieved_passages = chunks['chunk'].iloc[indices]\n",
    "    results = retrieved_passages\n",
    "    return results\n",
    "\n",
    "\n",
    "def retrieve(model, index, chunks):\n",
    "    retrieval_results = {query: [] for query in queries}\n",
    "    for query in queries:\n",
    "        retrieval_results[query] = retrieve_top_passages(query, model, index, chunks)\n",
    "    return retrieval_results"
   ],
   "id": "b77e34f7f2b0761b"
  },
  {
   "metadata": {},
   "cell_type": "code",
   "outputs": [],
   "execution_count": null,
   "source": [
    "chunks_df = pd.read_csv('data/clean_chunks.csv')\n",
    "embeddings = load_embeddings('data/clean_embeddings.pkl')\n",
    "dim = embeddings.shape\n",
    "index = build_faiss_flatl2_index(embeddings, dim)\n",
    "passages_retrieved = retrieve(model, index, chunks_df)"
   ],
   "id": "b0b185224588f574"
  }
 ],
 "metadata": {
  "kernelspec": {
   "display_name": "Python 3",
   "language": "python",
   "name": "python3"
  },
  "language_info": {
   "codemirror_mode": {
    "name": "ipython",
    "version": 2
   },
   "file_extension": ".py",
   "mimetype": "text/x-python",
   "name": "python",
   "nbconvert_exporter": "python",
   "pygments_lexer": "ipython2",
   "version": "2.7.6"
  }
 },
 "nbformat": 4,
 "nbformat_minor": 5
}
